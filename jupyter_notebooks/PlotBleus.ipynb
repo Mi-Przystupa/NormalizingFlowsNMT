{
 "cells": [
  {
   "cell_type": "code",
   "execution_count": 1,
   "metadata": {},
   "outputs": [],
   "source": [
    "import json\n",
    "import matplotlib.pyplot as plt\n",
    "import numpy as np\n",
    "import pandas as pd\n",
    "import torch"
   ]
  },
  {
   "cell_type": "code",
   "execution_count": 2,
   "metadata": {},
   "outputs": [],
   "source": [
    "with open('tabular_en-de.json', 'r') as f:\n",
    "    results = json.load(f)"
   ]
  },
  {
   "cell_type": "code",
   "execution_count": 3,
   "metadata": {},
   "outputs": [
    {
     "data": {
      "text/plain": [
       "dict_keys(['mod_vaenmt_cond-planar_4_kl-anneal_50000.0_p_latents_2_particles_4', 'mod_vaenmt_cond-planar_4_kl-anneal_50000.0_p_latents_2_particles_1', 'mod_vaenmt_cond-planar_16_kl-anneal_50000.0_p_latents_2_particles_4', 'mod_vaenmt_cond-planar_1_kl-anneal_50000.0_p_latents_2_particles_4', 'mod_vaenmt_cond-planar_1_kl-anneal_50000.0_p_latents_2_particles_1', 'mod_vaenmt_cond-planar_0_kl-anneal_50000.0_p_latents_2_particles_1', 'mod_vaenmt_cond-planar_0_kl-anneal_50000.0_p_latents_2_particles_4', 'mod_vaenmt_cond-planar_2_kl-anneal_50000.0_p_latents_2_particles_1', 'mod_vaenmt_cond-planar_16_kl-anneal_50000.0_p_latents_2_particles_1', 'mod_vaenmt_cond-planar_8_kl-anneal_50000.0_p_latents_2_particles_1', 'mod_vaenmt_cond-planar_2_kl-anneal_50000.0_p_latents_2_particles_4', 'mod_vaenmt_cond-planar_8_kl-anneal_50000.0_p_latents_2_particles_4'])"
      ]
     },
     "execution_count": 3,
     "metadata": {},
     "output_type": "execute_result"
    }
   ],
   "source": [
    "results.keys()\n",
    "\n"
   ]
  },
  {
   "cell_type": "code",
   "execution_count": 4,
   "metadata": {},
   "outputs": [],
   "source": [
    "def GetBest(bleus):\n",
    "    return max(bleus.items(), key=lambda x: x[1]['all'])\n",
    "def GetBestBleus(results):\n",
    "    ret = {}\n",
    "    for k, v in results.items():\n",
    "        ret[k] = GetBest(v)\n",
    "        \n",
    "    return ret"
   ]
  },
  {
   "cell_type": "code",
   "execution_count": 5,
   "metadata": {},
   "outputs": [
    {
     "ename": "KeyError",
     "evalue": "'mod_vnmt_planar_16_kl-anneal_50000.0_p_latents_2_particles_4'",
     "output_type": "error",
     "traceback": [
      "\u001b[0;31m---------------------------------------------------------------------------\u001b[0m",
      "\u001b[0;31mKeyError\u001b[0m                                  Traceback (most recent call last)",
      "\u001b[0;32m<ipython-input-5-40c4006b007f>\u001b[0m in \u001b[0;36m<module>\u001b[0;34m\u001b[0m\n\u001b[0;32m----> 1\u001b[0;31m \u001b[0mGetBest\u001b[0m\u001b[0;34m(\u001b[0m\u001b[0mresults\u001b[0m\u001b[0;34m[\u001b[0m\u001b[0;34m'mod_vnmt_planar_16_kl-anneal_50000.0_p_latents_2_particles_4'\u001b[0m\u001b[0;34m]\u001b[0m\u001b[0;34m)\u001b[0m\u001b[0;34m\u001b[0m\u001b[0;34m\u001b[0m\u001b[0m\n\u001b[0m",
      "\u001b[0;31mKeyError\u001b[0m: 'mod_vnmt_planar_16_kl-anneal_50000.0_p_latents_2_particles_4'"
     ]
    }
   ],
   "source": [
    "GetBest(results['mod_vnmt_planar_16_kl-anneal_50000.0_p_latents_2_particles_4'])"
   ]
  },
  {
   "cell_type": "code",
   "execution_count": 7,
   "metadata": {},
   "outputs": [
    {
     "name": "stdout",
     "output_type": "stream",
     "text": [
      "<class 'dict'>\n"
     ]
    },
    {
     "data": {
      "text/plain": [
       "('mod_vaenmt_cond-planar_0_kl-anneal_50000.0_p_latents_2_particles_4',\n",
       " ('16', {'all-no_latent': 0.05138464443716407, 'all': 17.690110954819552}))"
      ]
     },
     "execution_count": 7,
     "metadata": {},
     "output_type": "execute_result"
    }
   ],
   "source": [
    "best_results = GetBestBleus(results)\n",
    "print(type(best_results))\n",
    "\n",
    "max(best_results.items(), key=lambda x: x[1][1]['all'])\n",
    "#best_results.items()"
   ]
  },
  {
   "cell_type": "code",
   "execution_count": 8,
   "metadata": {},
   "outputs": [
    {
     "name": "stdout",
     "output_type": "stream",
     "text": [
      "0\n",
      "0\n",
      "12\n",
      "0\n"
     ]
    }
   ],
   "source": [
    "vnmt = dict(filter(lambda x: 'vnmt' in x[0] and 'mod_' not in x[0], best_results.items()))\n",
    "print(len(vnmt))\n",
    "vaenmt = dict(filter(lambda x: 'vaenmt' in x[0] and 'mod_' not in x[0], best_results.items()))\n",
    "print(len(vaenmt))\n",
    "\n",
    "mod_vaenmt = dict(filter(lambda x: 'mod_vaenmt' in x[0], best_results.items()))\n",
    "print(len(mod_vaenmt))\n",
    "\n",
    "mod_vnmt = dict(filter(lambda x: 'mod_vnmt' in x[0], best_results.items()))\n",
    "print(len(mod_vnmt))"
   ]
  },
  {
   "cell_type": "code",
   "execution_count": 12,
   "metadata": {},
   "outputs": [
    {
     "name": "stdout",
     "output_type": "stream",
     "text": [
      "mod_vaenmt_cond-planar_0_kl-anneal_50000.0_p_latents_2_particles_1 ('15', {'all-no_latent': 0.9770042085398797, 'all': 17.518189875670984})\n",
      "mod_vaenmt_cond-planar_0_kl-anneal_50000.0_p_latents_2_particles_4 ('16', {'all-no_latent': 0.05138464443716407, 'all': 17.690110954819552})\n",
      "mod_vaenmt_cond-planar_16_kl-anneal_50000.0_p_latents_2_particles_1 ('15', {'all-no_latent': 2.984577827995212, 'all': 17.587138659490563})\n",
      "mod_vaenmt_cond-planar_16_kl-anneal_50000.0_p_latents_2_particles_4 ('1', {'all-no_latent': 7.575560406536772, 'all': 15.751560959976759})\n",
      "mod_vaenmt_cond-planar_1_kl-anneal_50000.0_p_latents_2_particles_1 ('11', {'all-no_latent': 2.5471278748815718, 'all': 17.392582128168083})\n",
      "mod_vaenmt_cond-planar_1_kl-anneal_50000.0_p_latents_2_particles_4 ('15', {'all-no_latent': 3.998721429273844, 'all': 17.517167385105086})\n",
      "mod_vaenmt_cond-planar_2_kl-anneal_50000.0_p_latents_2_particles_1 ('16', {'all-no_latent': 3.1405313175370746, 'all': 17.449334513851014})\n",
      "mod_vaenmt_cond-planar_2_kl-anneal_50000.0_p_latents_2_particles_4 ('8', {'all-no_latent': 4.286390404522931, 'all': 17.22923481614152})\n",
      "mod_vaenmt_cond-planar_4_kl-anneal_50000.0_p_latents_2_particles_1 ('15', {'all-no_latent': 0.2820453566580791, 'all': 17.41656556132836})\n",
      "mod_vaenmt_cond-planar_4_kl-anneal_50000.0_p_latents_2_particles_4 ('11', {'all-no_latent': 2.6730816703953706, 'all': 17.622015050135456})\n",
      "mod_vaenmt_cond-planar_8_kl-anneal_50000.0_p_latents_2_particles_1 ('4', {'all-no_latent': 7.630030805675289, 'all': 16.79336332695936})\n",
      "mod_vaenmt_cond-planar_8_kl-anneal_50000.0_p_latents_2_particles_4 ('11', {'all-no_latent': 4.295855303605836, 'all': 17.397411864248355})\n"
     ]
    }
   ],
   "source": [
    "\n",
    "for k, v in sorted(mod_vaenmt.items(), key=lambda x: x[0]):\n",
    "    print(k, v)"
   ]
  },
  {
   "cell_type": "code",
   "execution_count": 14,
   "metadata": {},
   "outputs": [
    {
     "name": "stdout",
     "output_type": "stream",
     "text": [
      "4\n",
      "4\n",
      "16\n",
      "1\n",
      "1\n",
      "0\n",
      "0\n",
      "2\n",
      "16\n",
      "8\n",
      "2\n",
      "8\n",
      "[[0, 17.518189875670984], [0, 17.690110954819552], [1, 17.517167385105086], [1, 17.392582128168083], [2, 17.449334513851014], [2, 17.22923481614152], [4, 17.622015050135456], [4, 17.41656556132836], [8, 16.79336332695936], [8, 17.397411864248355], [16, 15.751560959976759], [16, 17.587138659490563]]\n",
      "4\n",
      "4\n",
      "16\n",
      "1\n",
      "1\n",
      "0\n",
      "0\n",
      "2\n",
      "16\n",
      "8\n",
      "2\n",
      "8\n",
      "[[0, 0.9770042085398797], [0, 0.05138464443716407], [1, 3.998721429273844], [1, 2.5471278748815718], [2, 3.1405313175370746], [2, 4.286390404522931], [4, 2.6730816703953706], [4, 0.2820453566580791], [8, 7.630030805675289], [8, 4.295855303605836], [16, 7.575560406536772], [16, 2.984577827995212]]\n",
      "[ 0  1  2  3  4  5  6  7  8  9 10 11]\n",
      "start plot\n",
      "4\n",
      "1\n",
      "0\n",
      "2\n",
      "16\n",
      "8\n",
      "[[0, 17.518189875670984], [1, 17.392582128168083], [2, 17.449334513851014], [4, 17.41656556132836], [8, 16.79336332695936], [16, 17.587138659490563]]\n",
      "4\n",
      "1\n",
      "0\n",
      "2\n",
      "16\n",
      "8\n",
      "[[0, 0.9770042085398797], [1, 2.5471278748815718], [2, 3.1405313175370746], [4, 0.2820453566580791], [8, 7.630030805675289], [16, 2.984577827995212]]\n",
      "4\n",
      "16\n",
      "1\n",
      "0\n",
      "2\n",
      "8\n",
      "[[0, 17.690110954819552], [1, 17.517167385105086], [2, 17.22923481614152], [4, 17.622015050135456], [8, 17.397411864248355], [16, 15.751560959976759]]\n",
      "4\n",
      "16\n",
      "1\n",
      "0\n",
      "2\n",
      "8\n",
      "[[0, 0.05138464443716407], [1, 3.998721429273844], [2, 4.286390404522931], [4, 2.6730816703953706], [8, 4.295855303605836], [16, 7.575560406536772]]\n"
     ]
    },
    {
     "data": {
      "image/png": "[encoded data removed]",
      "text/plain": [
       "<Figure size 864x288 with 2 Axes>"
      ]
     },
     "metadata": {
      "needs_background": "light"
     },
     "output_type": "display_data"
    }
   ],
   "source": [
    "#results = vnmt\n",
    "#results = mod_vaenmt\n",
    "#results = {k.split('mod_')[1]: v for k, v in mod_vnmt.items()}\n",
    "results = {k.split('mod_')[1]: v for k, v in mod_vaenmt.items()}\n",
    "def FilterValues(results, kl_anneal, value, with_label=False):\n",
    "    values =[] \n",
    "    for exp, item in results.items():\n",
    "        item= item[-1]\n",
    "        if  str(kl_anneal) in exp:\n",
    "            print(exp.split('_')[2])\n",
    "            z_dim = int(float(exp.split('_cond-planar_')[1].split(\"_\")[0]))\n",
    "            values.append([z_dim, item[value]])\n",
    "    values = sorted(values, key=lambda x: x[0])\n",
    "    print(values)\n",
    "    return [v[1] for v in values] if not with_label else values\n",
    "\n",
    "\n",
    "\n",
    "#For visualizing Comparison with and WITHOUT the latent variable Z for changing flows and length of KL annealing\n",
    "def autolabel(rects, xpos='center'):\n",
    "    \"\"\"\n",
    "    Attach a text label above each bar in *rects*, displaying its height.\n",
    "\n",
    "    *xpos* indicates which side to place the text w.r.t. the center of\n",
    "    the bar. It can be one of the following {'center', 'right', 'left'}.\n",
    "    \"\"\"\n",
    "\n",
    "    ha = {'center': 'center', 'right': 'left', 'left': 'right'}\n",
    "    offset = {'center': 0, 'right': 1, 'left': -1}\n",
    "\n",
    "    for rect in rects:\n",
    "        height = rect.get_height()\n",
    "        \"\"\"\n",
    "        ax.annotate('{:6.2f}'.format(height),\n",
    "                    xy=(rect.get_x() + rect.get_width() / 2, height),\n",
    "                    xytext=(offset[xpos]*3, 3),  # use 3 points offset\n",
    "                    textcoords=\"offset points\",  # in both directions\n",
    "                    ha=ha[xpos], va='bottom')\n",
    "        \"\"\"\n",
    "\n",
    "\n",
    "kl_anneal=50000.0\n",
    "bleus = FilterValues(results, kl_anneal, value='all')\n",
    "\n",
    "bleus_without_z = FilterValues(results, kl_anneal, value='all-no_latent')\n",
    "\n",
    "\n",
    "ind = np.arange(len(bleus))  # the x locations for the groups\n",
    "print(ind)\n",
    "width = 0.35  # the width of the bars\n",
    "\n",
    "fig, axis = plt.subplots(1, 2, figsize=(12,4))\n",
    "print('start plot')\n",
    "#kl_anneals = [20000.0, 50000.0, 80000.0]\n",
    "kl_anneals = [\"particles_1\",\"particles_4\"]\n",
    "for i, ax in enumerate(np.reshape(axis, (-1, ))):\n",
    "    kl_anneal = kl_anneals[i]\n",
    "    bleus = FilterValues(results, kl_anneal, value='all', with_label=True)\n",
    "    \n",
    "    ind = np.arange(len(bleus))\n",
    "    bleus_without_z = FilterValues(results, kl_anneal, value='all-no_latent')\n",
    "    \n",
    "    rects1 = ax.bar(ind - width/2, [b[1] for b in bleus], width, #yerr=men_std,\n",
    "                label='With Z')\n",
    "    rects2 = ax.bar(ind + width/2, bleus_without_z, width, #yerr=women_std,\n",
    "                label='Without Z')\n",
    "    autolabel(rects1, \"left\")\n",
    "    autolabel(rects2, \"right\")\n",
    "\n",
    "# Add some text for labels, title and custom x-axis tick labels, etc.\n",
    "    \n",
    "    #ax.set_title('Kl Annealed for {} Steps'.format(kl_anneal))\n",
    "    ax.set_title('{}'.format(kl_anneal))\n",
    "    ax.set_xticks(ind)\n",
    "    ax.set_xticklabels([b[0] for b in bleus])\n",
    "    #ax.set_xticklabels([1, 2, 8, 64, 256, 512]) #[0] + [2**i for i in range(8)])\n",
    "    #ax.set_xticklabels([0, 1, 2, 4, 8, 16, 32])\n",
    "    if i == 0:\n",
    "        ax.set_ylabel('Bleu Score')\n",
    "    if i == 2:\n",
    "        ax.legend()\n",
    "    if i == 1:\n",
    "        ax.set_xlabel(\"Numbe of particles\")\n",
    "\n",
    "\n",
    "\n",
    "\n",
    "fig.tight_layout()\n",
    "\n",
    "plt.show()"
   ]
  },
  {
   "cell_type": "code",
   "execution_count": 19,
   "metadata": {},
   "outputs": [
    {
     "name": "stdout",
     "output_type": "stream",
     "text": [
      "4\n",
      "1\n",
      "0\n",
      "2\n",
      "16\n",
      "8\n",
      "[[0, 17.518189875670984], [1, 17.392582128168083], [2, 17.449334513851014], [4, 17.41656556132836], [8, 16.79336332695936], [16, 17.587138659490563]]\n"
     ]
    },
    {
     "data": {
      "text/plain": [
       "[[0, 17.518189875670984],\n",
       " [1, 17.392582128168083],\n",
       " [2, 17.449334513851014],\n",
       " [4, 17.41656556132836],\n",
       " [8, 16.79336332695936],\n",
       " [16, 17.587138659490563]]"
      ]
     },
     "execution_count": 19,
     "metadata": {},
     "output_type": "execute_result"
    }
   ],
   "source": [
    "#kl_anneals = [\"particles_1\",\"particles_4\"]\n",
    "anneal = \"particles_1\"\n",
    "#results = vnmt\n",
    "#results = vaenmt\n",
    "#results = {k.split('mod_')[1]: v for k, v in mod_vnmt.items()}\n",
    "results = {k.split('mod_')[1]: v for k, v in mod_vaenmt.items()}\n",
    "FilterValues(results, anneal, 'all', True)\n"
   ]
  },
  {
   "cell_type": "code",
   "execution_count": 20,
   "metadata": {},
   "outputs": [
    {
     "name": "stdout",
     "output_type": "stream",
     "text": [
      "4\n",
      "1\n",
      "0\n",
      "2\n",
      "16\n",
      "8\n",
      "[[0, 17.518189875670984], [1, 17.392582128168083], [2, 17.449334513851014], [4, 17.41656556132836], [8, 16.79336332695936], [16, 17.587138659490563]]\n",
      "17.518189875670984\n",
      "17.392582128168083\n",
      "17.449334513851014\n",
      "17.41656556132836\n",
      "16.79336332695936\n",
      "17.587138659490563\n"
     ]
    }
   ],
   "source": [
    "for v in FilterValues(results, anneal, 'all', False):\n",
    "    print(v)\n",
    "\n"
   ]
  },
  {
   "cell_type": "code",
   "execution_count": 47,
   "metadata": {},
   "outputs": [
    {
     "name": "stdout",
     "output_type": "stream",
     "text": [
      "80000.0\n",
      "80000.0\n",
      "80000.0\n",
      "80000.0\n",
      "[[1, 6.945219182369338], [64, 2.0660222473444594], [256, 1.9810828131918905], [512, 1.1255656126614004]]\n"
     ]
    },
    {
     "data": {
      "text/plain": [
       "[[1, 6.945219182369338],\n",
       " [64, 2.0660222473444594],\n",
       " [256, 1.9810828131918905],\n",
       " [512, 1.1255656126614004]]"
      ]
     },
     "execution_count": 47,
     "metadata": {},
     "output_type": "execute_result"
    }
   ],
   "source": [
    "FilterValues(results, anneal, 'all-no_latent', True)"
   ]
  },
  {
   "cell_type": "code",
   "execution_count": null,
   "metadata": {},
   "outputs": [],
   "source": []
  }
 ],
 "metadata": {
  "kernelspec": {
   "display_name": "Python 3",
   "language": "python",
   "name": "python3"
  },
  "language_info": {
   "codemirror_mode": {
    "name": "ipython",
    "version": 3
   },
   "file_extension": ".py",
   "mimetype": "text/x-python",
   "name": "python",
   "nbconvert_exporter": "python",
   "pygments_lexer": "ipython3",
   "version": "3.6.9"
  }
 },
 "nbformat": 4,
 "nbformat_minor": 2
}
