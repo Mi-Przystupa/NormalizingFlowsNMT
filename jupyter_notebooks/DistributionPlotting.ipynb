{
 "cells": [
  {
   "cell_type": "code",
   "execution_count": 1,
   "metadata": {},
   "outputs": [],
   "source": [
    "#Parts of plotting script were provided from:\n",
    "#https://github.com/aaronpmishkin/normalizing_flows/blob/master/experiments/logreg_example_planar.py"
   ]
  },
  {
   "cell_type": "code",
   "execution_count": 5,
   "metadata": {},
   "outputs": [],
   "source": [
    "import torch\n",
    "from torch.optim import Adam\n",
    "from torch.distributions import MultivariateNormal\n",
    "from scipy import stats\n",
    "import numpy as np\n",
    "import matplotlib.pyplot as plt\n",
    "from torch.distributions.normal import Normal\n",
    "from araNorm import araNorm\n",
    "import sentencepiece as spm\n",
    "import dill\n",
    "from torchtext import data, datasets\n",
    "import sentencepiece as spm"
   ]
  },
  {
   "cell_type": "code",
   "execution_count": 3,
   "metadata": {},
   "outputs": [
    {
     "name": "stdout",
     "output_type": "stream",
     "text": [
      "you are not using CUDA right now!!!!!!\n"
     ]
    }
   ],
   "source": [
    "# Constants\n",
    "UNK_TOKEN = \"<unk>\"\n",
    "PAD_TOKEN = \"<pad>\"    \n",
    "SOS_TOKEN = \"<s>\"\n",
    "EOS_TOKEN = \"</s>\"\n",
    "LOWER = False\n",
    "MAX_LEN = 60\n",
    "MIN_FREQ=1\n",
    "DEVICE=torch.device('cuda') # not a big fan of this ...\n",
    "print(\"you are not using CUDA right now!!!!!!\")\n",
    "USE_CUDA=False "
   ]
  },
  {
   "cell_type": "code",
   "execution_count": 4,
   "metadata": {},
   "outputs": [],
   "source": [
    "#terrible decision making on my part....but we can fix it after deadline\n",
    "def bpe_tokenize(text, model, transform=None):\n",
    "    if transform is not None:\n",
    "        text = transform(text)\n",
    "    return model.EncodeAsPieces(text.strip())\n",
    "\n",
    "def filter_fn(x):\n",
    "    return len(vars(x)['src']) <= MAX_LEN and len(vars(x)['trg']) <= MAX_LEN\n",
    "\n",
    "\n",
    "def getBPE(src_pth, trg_pth):\n",
    "    src_bpe = spm.SentencePieceProcessor()\n",
    "    src_bpe.Load(src_pth)\n",
    "    trg_bpe = spm.SentencePieceProcessor()\n",
    "    trg_bpe.Load(trg_pth)\n",
    "\n",
    "    src_transform = None\n",
    "    trg_transform = None\n",
    "\n",
    "    src_m = src_pth.split('/')[-1]\n",
    "    trg_m = trg_pth.split('/')[-1]\n",
    "    if 'arabic' in src_m:\n",
    "        arab_norm = araNorm()\n",
    "        src_transform = lambda x: arab_norm.run(x) \n",
    "\n",
    "    if 'arabic' in trg_m:\n",
    "        arab_norm = araNorm()\n",
    "        trg_transform = lambda x: arab_norm.run(x)\n",
    "\n",
    "    src_tokenizer = lambda x: bpe_tokenize(x, src_bpe, src_transform)\n",
    "    trg_tokenizer = lambda x: bpe_tokenize(x, trg_bpe, trg_transform)\n",
    "    return src_tokenizer, trg_tokenizer\n",
    "\n"
   ]
  },
  {
   "cell_type": "code",
   "execution_count": 14,
   "metadata": {},
   "outputs": [
    {
     "name": "stdout",
     "output_type": "stream",
     "text": [
      "dict_keys([1, 2, 3, 4, 5, 6, 7, 8, 9, 10, 11])\n"
     ]
    }
   ],
   "source": [
    "pth = '../.results/IWSLT_en-de/vaenmt_cond-planar_1_kl-anneal_80000.0_q_p_latents_256_particles_1_attn_True/'\n",
    "pth = pth + 'validate-latent_spaces.pth'\n",
    "\n",
    "sentence_pairs = torch.load(pth)\n",
    "print(sentence_pairs.keys())\n",
    "samples = sentence_pairs[1]\n",
    "src = samples['src']\n",
    "trg = samples['trg']\n",
    "samples_dict = samples['sampes']"
   ]
  },
  {
   "cell_type": "code",
   "execution_count": 18,
   "metadata": {},
   "outputs": [
    {
     "name": "stdout",
     "output_type": "stream",
     "text": [
      "[<matplotlib.axes._subplots.AxesSubplot object at 0x7f0856adfa90>\n",
      " <matplotlib.axes._subplots.AxesSubplot object at 0x7f085693c278>\n",
      " <matplotlib.axes._subplots.AxesSubplot object at 0x7f0856b71c50>\n",
      " <matplotlib.axes._subplots.AxesSubplot object at 0x7f0856a79240>\n",
      " <matplotlib.axes._subplots.AxesSubplot object at 0x7f0856b377f0>\n",
      " <matplotlib.axes._subplots.AxesSubplot object at 0x7f0856cfada0>\n",
      " <matplotlib.axes._subplots.AxesSubplot object at 0x7f0856971390>\n",
      " <matplotlib.axes._subplots.AxesSubplot object at 0x7f0856947908>]\n",
      "(400,)\n",
      "(400,)\n"
     ]
    },
    {
     "ename": "NameError",
     "evalue": "name 'flow_type' is not defined",
     "output_type": "error",
     "traceback": [
      "\u001b[0;31m---------------------------------------------------------------------------\u001b[0m",
      "\u001b[0;31mNameError\u001b[0m                                 Traceback (most recent call last)",
      "\u001b[0;32m<ipython-input-18-46557ecad331>\u001b[0m in \u001b[0;36m<module>\u001b[0;34m\u001b[0m\n\u001b[1;32m     31\u001b[0m     \u001b[0max\u001b[0m\u001b[0;34m[\u001b[0m\u001b[0mi\u001b[0m\u001b[0;34m]\u001b[0m\u001b[0;34m.\u001b[0m\u001b[0mset_title\u001b[0m\u001b[0;34m(\u001b[0m\u001b[0;34m\"K = {}\"\u001b[0m\u001b[0;34m.\u001b[0m\u001b[0mformat\u001b[0m\u001b[0;34m(\u001b[0m\u001b[0mi\u001b[0m\u001b[0;34m)\u001b[0m\u001b[0;34m,\u001b[0m \u001b[0msize\u001b[0m\u001b[0;34m=\u001b[0m\u001b[0;36m32\u001b[0m\u001b[0;34m)\u001b[0m\u001b[0;34m\u001b[0m\u001b[0;34m\u001b[0m\u001b[0m\n\u001b[1;32m     32\u001b[0m \u001b[0mfig\u001b[0m\u001b[0;34m.\u001b[0m\u001b[0mcolorbar\u001b[0m\u001b[0;34m(\u001b[0m\u001b[0mcontour\u001b[0m\u001b[0;34m,\u001b[0m \u001b[0max\u001b[0m\u001b[0;34m=\u001b[0m\u001b[0max\u001b[0m\u001b[0;34m[\u001b[0m\u001b[0;34m-\u001b[0m\u001b[0;36m1\u001b[0m\u001b[0;34m]\u001b[0m\u001b[0;34m)\u001b[0m\u001b[0;34m\u001b[0m\u001b[0;34m\u001b[0m\u001b[0m\n\u001b[0;32m---> 33\u001b[0;31m \u001b[0mplt\u001b[0m\u001b[0;34m.\u001b[0m\u001b[0msavefig\u001b[0m\u001b[0;34m(\u001b[0m\u001b[0;34m\"{}_flows_plot.pdf\"\u001b[0m\u001b[0;34m.\u001b[0m\u001b[0mformat\u001b[0m\u001b[0;34m(\u001b[0m\u001b[0mflow_type\u001b[0m\u001b[0;34m)\u001b[0m\u001b[0;34m,\u001b[0m \u001b[0mdpi\u001b[0m\u001b[0;34m=\u001b[0m\u001b[0;36m500\u001b[0m\u001b[0;34m)\u001b[0m\u001b[0;34m\u001b[0m\u001b[0;34m\u001b[0m\u001b[0m\n\u001b[0m\u001b[1;32m     34\u001b[0m \u001b[0mplt\u001b[0m\u001b[0;34m.\u001b[0m\u001b[0mshow\u001b[0m\u001b[0;34m(\u001b[0m\u001b[0;34m)\u001b[0m\u001b[0;34m\u001b[0m\u001b[0;34m\u001b[0m\u001b[0m\n",
      "\u001b[0;31mNameError\u001b[0m: name 'flow_type' is not defined"
     ]
    },
    {
     "data": {
      "image/png": "[encoded data removed]",
      "text/plain": [
       "<Figure size 1800x360 with 9 Axes>"
      ]
     },
     "metadata": {
      "needs_background": "light"
     },
     "output_type": "display_data"
    }
   ],
   "source": [
    "# Plot normalizing flow posterior:\n",
    "\n",
    "grid_spacing = 1.0#0.5\n",
    "spacing =10\n",
    "w1, w2 = np.mgrid[-spacing:spacing:grid_spacing, -spacing:spacing:grid_spacing]\n",
    "# Compute all combinations of w1 and w2 values from the grid.\n",
    "W = np.squeeze(np.dstack((w1.reshape(w1.size), w2.reshape(w2.size))))\n",
    "\n",
    "W_tensor = torch.tensor(W).to(torch.float)\n",
    "fig, (ax) = plt.subplots(1, 8, figsize=(25, 5))\n",
    "#fig.suptitle('{}'.format(\"Planar Flows\"), size=24)\n",
    "print( ax)\n",
    "len(samples_dict.keys())\n",
    "for i in range(len(samples_dict)):\n",
    "    \n",
    "#samples, log_probs = model.forward(num_samples=10000)\n",
    "#samples = Normal(torch.ones(10000, 2) * 4, torch.ones(10000, 2) * 2).sample()\n",
    "\n",
    "    samples = samples_dict['z_{}'.format(i)][:, 0:2]\n",
    "    samples = samples.T\n",
    "\n",
    "    kernel = stats.gaussian_kde(samples)\n",
    "\n",
    "    Z = kernel(W.T)\n",
    "    print(Z.shape)\n",
    "    Z = Z.reshape((w1.shape[0], w2.shape[0]))\n",
    "    ax[i].set_yticklabels([])\n",
    "    ax[i].set_xticklabels([])\n",
    "    \n",
    "    contour = ax[i].contourf(w1, w2, Z)\n",
    "    ax[i].set_title(\"K = {}\".format(i), size=32)\n",
    "fig.colorbar(contour, ax=ax[-1])\n",
    "plt.savefig(\"{}_flows_plot.pdf\".format(flow_type), dpi=500)\n",
    "plt.show()\n"
   ]
  },
  {
   "cell_type": "code",
   "execution_count": 8,
   "metadata": {},
   "outputs": [
    {
     "name": "stdout",
     "output_type": "stream",
     "text": [
      "found previous saved train and valid data, delete if undesired\n"
     ]
    }
   ],
   "source": [
    "src_bpe = './bpe_models/german.model'\n",
    "trg_bpe = './bpe_models/de_english.model'\n",
    "source= 'de'\n",
    "target= 'en'\n",
    "\n",
    "tokenize_src, tokenize_trg = getBPE(src_bpe, trg_bpe)\n",
    "\n",
    "\n",
    "data_save_path = './data_{}_to_{}.pth'.format(source, target) \n",
    "datahandler = DataHandler(tokenize_src, tokenize_trg, LOWER, EOS_TOKEN, SOS_TOKEN, PAD_TOKEN, UNK_TOKEN, MIN_FREQ, DEVICE)\n",
    "\n",
    "fields = [('src', datahandler.getSRCField()), ('trg', datahandler.getTRGField())]\n",
    "f = torch.load(data_save_path, pickle_module=dill)\n",
    "print('found previous saved train and valid data, delete if undesired')\n",
    "datahandler.load_vocabs(f['src_vocab'], f['trg_vocab'])\n",
    "train_data= data.Dataset(f['train_examples'], fields=fields, filter_pred=None)\n",
    "valid_data = data.Dataset(f['valid_examples'], fields=fields, filter_pred=None) \n",
    "test_data = data.Dataset(f['test_examples'], fields=fields, filter_pred=None) #this is temporary\n",
    "\n",
    "\n",
    "#test_data = data.Dataset(f['test_examples'], fields=fields, filter_pred=None)"
   ]
  },
  {
   "cell_type": "code",
   "execution_count": 9,
   "metadata": {},
   "outputs": [
    {
     "name": "stdout",
     "output_type": "stream",
     "text": [
      "dict_keys(['train_examples', 'valid_examples', 'test_examples', 'src_vocab', 'trg_vocab'])\n",
      "19926 19559\n"
     ]
    },
    {
     "data": {
      "text/plain": [
       "19559"
      ]
     },
     "execution_count": 9,
     "metadata": {},
     "output_type": "execute_result"
    }
   ],
   "source": [
    "print(f.keys())\n",
    "print(len(datahandler.getSRCVocab()), len(datahandler.getTRGVocab()))\n",
    "len(f['trg_vocab'])\n",
    "\n"
   ]
  },
  {
   "cell_type": "code",
   "execution_count": 98,
   "metadata": {},
   "outputs": [
    {
     "name": "stdout",
     "output_type": "stream",
     "text": [
      "VariationalEncoderDecoder(\n",
      "  (encoder): Encoder(\n",
      "    (rnn): GRU(300, 256, num_layers=2, batch_first=True, dropout=0.5, bidirectional=True)\n",
      "  )\n",
      "  (decoder): Decoder(\n",
      "    (attention): BahdanauAttention(\n",
      "      (key_layer): Linear(in_features=512, out_features=256, bias=False)\n",
      "      (query_layer): Linear(in_features=256, out_features=256, bias=False)\n",
      "      (energy_layer): Linear(in_features=256, out_features=1, bias=False)\n",
      "    )\n",
      "    (rnn): GRU(814, 256, num_layers=2, batch_first=True, dropout=0.5)\n",
      "    (bridge): Linear(in_features=512, out_features=256, bias=True)\n",
      "    (dropout_layer): Dropout(p=0.5)\n",
      "    (pre_output_layer): Linear(in_features=1070, out_features=256, bias=False)\n",
      "  )\n",
      "  (src_embed): Embedding(19926, 300)\n",
      "  (trg_embed): Embedding(19559, 300)\n",
      "  (generator): Generator(\n",
      "    (proj): Linear(in_features=256, out_features=19559, bias=False)\n",
      "  )\n",
      "  (prior): GaussLayer(\n",
      "    (linear): Linear(in_features=512, out_features=256, bias=True)\n",
      "    (mu): Linear(in_features=256, out_features=2, bias=True)\n",
      "    (logsig): Linear(in_features=256, out_features=2, bias=True)\n",
      "    (activation): Tanh()\n",
      "  )\n",
      "  (posterior): GaussLayer(\n",
      "    (linear): Linear(in_features=1024, out_features=256, bias=True)\n",
      "    (mu): Linear(in_features=256, out_features=2, bias=True)\n",
      "    (logsig): Linear(in_features=256, out_features=2, bias=True)\n",
      "    (activation): Tanh()\n",
      "  )\n",
      "  (projection): Sequential(\n",
      "    (0): Linear(in_features=2, out_features=2, bias=True)\n",
      "    (1): Tanh()\n",
      "  )\n",
      "  (nf_modules): ModuleList(\n",
      "    (0): PlanarFlow()\n",
      "    (1): PlanarFlow()\n",
      "    (2): PlanarFlow()\n",
      "    (3): PlanarFlow()\n",
      "    (4): PlanarFlow()\n",
      "    (5): PlanarFlow()\n",
      "    (6): PlanarFlow()\n",
      "    (7): PlanarFlow()\n",
      "  )\n",
      ")\n"
     ]
    },
    {
     "data": {
      "text/plain": [
       "VariationalEncoderDecoder(\n",
       "  (encoder): Encoder(\n",
       "    (rnn): GRU(300, 256, num_layers=2, batch_first=True, dropout=0.5, bidirectional=True)\n",
       "  )\n",
       "  (decoder): Decoder(\n",
       "    (attention): BahdanauAttention(\n",
       "      (key_layer): Linear(in_features=512, out_features=256, bias=False)\n",
       "      (query_layer): Linear(in_features=256, out_features=256, bias=False)\n",
       "      (energy_layer): Linear(in_features=256, out_features=1, bias=False)\n",
       "    )\n",
       "    (rnn): GRU(814, 256, num_layers=2, batch_first=True, dropout=0.5)\n",
       "    (bridge): Linear(in_features=512, out_features=256, bias=True)\n",
       "    (dropout_layer): Dropout(p=0.5)\n",
       "    (pre_output_layer): Linear(in_features=1070, out_features=256, bias=False)\n",
       "  )\n",
       "  (src_embed): Embedding(19926, 300)\n",
       "  (trg_embed): Embedding(19559, 300)\n",
       "  (generator): Generator(\n",
       "    (proj): Linear(in_features=256, out_features=19559, bias=False)\n",
       "  )\n",
       "  (prior): GaussLayer(\n",
       "    (linear): Linear(in_features=512, out_features=256, bias=True)\n",
       "    (mu): Linear(in_features=256, out_features=2, bias=True)\n",
       "    (logsig): Linear(in_features=256, out_features=2, bias=True)\n",
       "    (activation): Tanh()\n",
       "  )\n",
       "  (posterior): GaussLayer(\n",
       "    (linear): Linear(in_features=1024, out_features=256, bias=True)\n",
       "    (mu): Linear(in_features=256, out_features=2, bias=True)\n",
       "    (logsig): Linear(in_features=256, out_features=2, bias=True)\n",
       "    (activation): Tanh()\n",
       "  )\n",
       "  (projection): Sequential(\n",
       "    (0): Linear(in_features=2, out_features=2, bias=True)\n",
       "    (1): Tanh()\n",
       "  )\n",
       "  (nf_modules): ModuleList(\n",
       "    (0): PlanarFlow()\n",
       "    (1): PlanarFlow()\n",
       "    (2): PlanarFlow()\n",
       "    (3): PlanarFlow()\n",
       "    (4): PlanarFlow()\n",
       "    (5): PlanarFlow()\n",
       "    (6): PlanarFlow()\n",
       "    (7): PlanarFlow()\n",
       "  )\n",
       ")"
      ]
     },
     "execution_count": 98,
     "metadata": {},
     "output_type": "execute_result"
    }
   ],
   "source": [
    "# Stuff to handle loading the model \n",
    "#flow_type='iaf'\n",
    "#num_flows=8\n",
    "#epoch=9\n",
    "\n",
    "flow_type='planar'\n",
    "num_flows=8\n",
    "epoch=8\n",
    "\n",
    "name='{}_num_flows_{}_de_en_model_epoch_{}.pth'.format(flow_type, num_flows, epoch)\n",
    "model_pth ='./models/{}'.format(name)\n",
    "model_type='vnmt'\n",
    "z_dim=2 #it will have to be 2 in order to plot\n",
    "model = make_model(len(datahandler.getSRCVocab()), len(datahandler.getTRGVocab()),\n",
    "        type=model_type, emb_size=300, hidden_size=256 , num_layers=2, dropout=0.5, z_layer=z_dim)\n",
    "\n",
    "#Setup Flow stuff\n",
    "\n",
    "\n",
    "if flow_type == 'planar':\n",
    "    model.loadPlanarFlows(num_flows, z_dim=z_dim)\n",
    "elif flow_type == 'iaf':\n",
    "    model.loadIAFs(num_flows, z_dim=z_dim)\n",
    "\n",
    "#print(model)\n",
    "#print(model.nf_modules[0].u)\n",
    "#print(model.nf_modules[15].u)\n",
    "#print(model.nf_modules[27].u)\n",
    "prev =0.0\n",
    "#for i in range(0, 10):\n",
    "#    model_pth = './models/{}_num_flows_{}_de_en_model_epoch_{}.pth'.format(flow_type, num_flows, i)\n",
    "#    model.load(model_pth)\n",
    "#    curr = model.nf_modules[0].arn.layers[1].weight[0]\n",
    "    #curr = model.nf_modules[0].u\n",
    "#    print(prev - curr)\n",
    "#    prev = curr.clone()\n",
    "    #print(prev - model.nf_modules[0].arn.layers[1].weight[0])\n",
    "    #prev = model.nf_modules[0].arn.layers[1].weight[0]\n",
    "model.load(model_pth)\n",
    "print(model)\n",
    "model.eval()\n",
    "#print(model.nf_modules[0].u)\n",
    "#print(model.nf_modules[15].u)\n",
    "#print(model.nf_modules[27].u)"
   ]
  },
  {
   "cell_type": "code",
   "execution_count": null,
   "metadata": {},
   "outputs": [],
   "source": []
  },
  {
   "cell_type": "code",
   "execution_count": 99,
   "metadata": {},
   "outputs": [
    {
     "name": "stdout",
     "output_type": "stream",
     "text": [
      "torch.Size([1, 2])\n",
      "tensor([[-2.8368,  1.3742]], grad_fn=<AddmmBackward>)\n",
      "tensor([[3.1194, 1.9965]], grad_fn=<SoftplusBackward>)\n"
     ]
    }
   ],
   "source": [
    "if USE_CUDA:\n",
    "    model = model.cuda()\n",
    "else:\n",
    "    model = model.cpu()\n",
    "\n",
    "# Generate the samples from the flows\n",
    "pad_index = datahandler.getTRGVocab().stoi[PAD_TOKEN]\n",
    "test_iter = datahandler.getIter(test_data, batch_size=1, train=False, sort=False, repeat=False) \n",
    "#Get the first sentence\n",
    "for sentence in test_iter:\n",
    "    batch = rebatch(pad_index, sentence, use_cuda=USE_CUDA)\n",
    "    break\n",
    "\n",
    "src, src_mask, src_lengths = batch.src, batch.src_mask, batch.src_lengths\n",
    "trg, trg_mask, trg_lengths = batch.trg, batch.trg_mask, batch.trg_lengths\n",
    "\n",
    "if not USE_CUDA:\n",
    "    src, src_mask, src_lengths = src.cpu(), src_mask.cpu(), src_lengths.cpu()\n",
    "    trg, trg_mask, trg_lengths = trg.cpu(), trg_mask.cpu(), trg_lengths.cpu()\n",
    "#encode the variational distribution\n",
    "encoder_hidden_x, encoder_final = model.encoder(model.src_embed(src), src_mask, src_lengths)\n",
    "encoder_hidden_y, _ = model.encoder(model.trg_embed(trg), trg_mask, trg_lengths, pad_pack=False)\n",
    "\n",
    "#mean pooling operation\n",
    "X = model.meanPool(encoder_hidden_x, src_lengths)\n",
    "Y = model.meanPool(encoder_hidden_y, trg_lengths)\n",
    "        \n",
    "z = torch.cat([X, Y], dim=1)\n",
    "#TODO there...might need to be another layer in here\n",
    "z_mean, z_sig = model.posterior(z)\n",
    "print(z_mean.size())\n",
    "print(z_mean)\n",
    "print(z_sig)\n",
    "#z_mean = z_mean[0,:2]\n",
    "#z_sig = z_sig[0, :2]\n",
    "\n",
    "num_samples = 100000\n",
    "\n",
    "\n",
    "samples_dict = {i: Normal(torch.ones(10000, 2) * z_mean, torch.ones(10000, 2) * z_sig).sample() for i in range(len(model.nf_modules))}\n",
    "for i, n in enumerate(model.nf_modules):\n",
    "    transform = n(samples_dict[i])\n",
    "    #print(transform.size())\n",
    "    samples_dict[i] = transform\n",
    "\n"
   ]
  },
  {
   "cell_type": "code",
   "execution_count": 103,
   "metadata": {},
   "outputs": [
    {
     "name": "stdout",
     "output_type": "stream",
     "text": [
      "['▁Als', '▁ich', '▁in', '▁meinen', '▁20', 'ern', '▁war', ',', '▁hatte', '▁ich', '▁meine', '▁erste', '▁Psych', 'otherapie', '-', 'P', 'at', 'ient', 'in', '.']\n",
      "['▁When', '▁I', '▁was', '▁in', '▁my', '▁20', 's', ',', '▁I', '▁saw', '▁my', '▁very', '▁first', '▁psychotherapy', '▁client', '.']\n",
      "Als ich in meinen 20ern war, hatte ich meine erste Psychotherapie-Patientin.\n",
      "When I was in my 20s, I saw my very first psychotherapy client.\n"
     ]
    }
   ],
   "source": [
    "src = test_data[0].src\n",
    "trg = test_data[0].trg\n",
    "print(src)\n",
    "print(trg)\n",
    "def loadBPEModel(m):\n",
    "    sp = spm.SentencePieceProcessor()\n",
    "    sp.Load(m + '.model')\n",
    "    return sp\n",
    "\n",
    "src_bpe = loadBPEModel('./bpe_models/german')\n",
    "trg_bpe = loadBPEModel('./bpe_models/de_english')\n",
    "\n",
    "src = src_bpe.DecodePieces(src)\n",
    "trg = trg_bpe.DecodePieces(trg)\n",
    "print(src)\n",
    "print(trg)"
   ]
  },
  {
   "cell_type": "code",
   "execution_count": null,
   "metadata": {},
   "outputs": [],
   "source": []
  },
  {
   "cell_type": "code",
   "execution_count": null,
   "metadata": {},
   "outputs": [],
   "source": [
    "# Plot \"True\" Posterior (computed numerically) \n",
    "#We do not have this, if we did this would be much easier\n",
    "\n",
    "f = W @ X_np.T\n",
    "\n",
    "log_prior = np.log(stats.multivariate_normal(mean=torch.zeros(2).numpy(), cov=torch.eye(2).div(prior_prec).numpy()).pdf(W))\n",
    "prior = np.exp(log_prior)\n",
    "\n",
    "log_like = np.sum(f * np.squeeze(y_np) - np.log(1+np.exp(f)), 1)\n",
    "log_joint = log_like + log_prior\n",
    "joint = np.exp(log_joint)\n",
    "\n",
    "# Simple approximation of the Trapezoidal Rule.\n",
    "log_marginal = np.log((grid_spacing**2) * np.sum(np.exp(log_joint)))\n",
    "\n",
    "log_post = log_joint - log_marginal\n",
    "post = np.exp(log_post)\n",
    "\n",
    "# Reshape the densities back into a grid.\n",
    "prior_density = prior.reshape((w1.shape[0], w2.shape[0]))\n",
    "joint_density = joint.reshape((w1.shape[0], w2.shape[0]))\n",
    "posterior_density = post.reshape((w1.shape[0], w2.shape[0]))\n",
    "\n",
    "fig, (ax1) = plt.subplots(1, 1, figsize=(18, 6))\n",
    "c1 = vis.plot_density(ax1, w1, w2, posterior_density, title=\"Posterior\", xlim=[-2,10], ylim=[-2,10])\n",
    "\n"
   ]
  }
 ],
 "metadata": {
  "kernelspec": {
   "display_name": "Python 3",
   "language": "python",
   "name": "python3"
  },
  "language_info": {
   "codemirror_mode": {
    "name": "ipython",
    "version": 3
   },
   "file_extension": ".py",
   "mimetype": "text/x-python",
   "name": "python",
   "nbconvert_exporter": "python",
   "pygments_lexer": "ipython3",
   "version": "3.6.9"
  }
 },
 "nbformat": 4,
 "nbformat_minor": 2
}
