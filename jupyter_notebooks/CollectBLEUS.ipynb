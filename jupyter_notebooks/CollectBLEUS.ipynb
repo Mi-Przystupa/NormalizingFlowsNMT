{
 "cells": [
  {
   "cell_type": "code",
   "execution_count": 9,
   "metadata": {},
   "outputs": [],
   "source": [
    "import argparse\n",
    "import json\n",
    "import glob\n"
   ]
  },
  {
   "cell_type": "code",
   "execution_count": 4,
   "metadata": {},
   "outputs": [
    {
     "name": "stderr",
     "output_type": "stream",
     "text": [
      "usage: ipykernel_launcher.py [-h] [--outdir OUTDIR] [--params PARAMS]\n",
      "ipykernel_launcher.py: error: unrecognized arguments: -f /home/przystupa/.local/share/jupyter/runtime/kernel-002ff59c-1b8b-4f86-81c5-a4f958fdaaec.json\n"
     ]
    },
    {
     "ename": "SystemExit",
     "evalue": "2",
     "output_type": "error",
     "traceback": [
      "An exception has occurred, use %tb to see the full traceback.\n",
      "\u001b[0;31mSystemExit\u001b[0m\u001b[0;31m:\u001b[0m 2\n"
     ]
    },
    {
     "name": "stderr",
     "output_type": "stream",
     "text": [
      "/home/przystupa/anaconda2/envs/py36/lib/python3.6/site-packages/IPython/core/interactiveshell.py:3334: UserWarning: To exit: use 'exit', 'quit', or Ctrl-D.\n",
      "  warn(\"To exit: use 'exit', 'quit', or Ctrl-D.\", stacklevel=1)\n"
     ]
    }
   ],
   "source": [
    "parser = argparse.ArgumentParser()\n",
    "parser.add_argument('--outdir', default='.results/tabular_en-de/', type=str,\n",
    "    help=\"name of language direction dictory, make sure to end name with /\")\n",
    "parser.add_argument('--params', default=['model_type', 'kl_anneal', 'z_dim'])\n",
    "\n",
    "args = parser.parse_args()"
   ]
  },
  {
   "cell_type": "code",
   "execution_count": 11,
   "metadata": {},
   "outputs": [],
   "source": [
    "outdir = '.results/tabular_en-de/'\n",
    "params = ['model_type', 'kl_anneal', 'z_dim']"
   ]
  },
  {
   "cell_type": "code",
   "execution_count": 22,
   "metadata": {},
   "outputs": [
    {
     "name": "stdout",
     "output_type": "stream",
     "text": [
      ".results/tabular_en-de/vaenmt_kl-anneal_20000.0_latents_2\n",
      ".results/tabular_en-de/vaenmt_kl-anneal_20000.0_latents_8\n",
      ".results/tabular_en-de/vaenmt_kl-anneal_20000.0_latents_1\n",
      "1/ 3 did not have BLEUS\n",
      "tabular_en-de\n"
     ]
    },
    {
     "data": {
      "text/plain": [
       "dict_keys(['vaenmt_kl-anneal_20000.0_latents_2', 'vaenmt_kl-anneal_20000.0_latents_8'])"
      ]
     },
     "execution_count": 22,
     "metadata": {},
     "output_type": "execute_result"
    }
   ],
   "source": [
    "def getDirs(path):\n",
    "    return glob.glob(path + '*')\n",
    "\n",
    "def getBLEUS(pths):\n",
    "    err = 0\n",
    "    ret = {}\n",
    "    for p in pths:\n",
    "        exp = p.split('/')[-1]\n",
    "        print(p)\n",
    "        try:\n",
    "            with open(p + '/bleus.json', 'r') as f:\n",
    "                bleus = json.load(f)\n",
    "                ret[exp] = bleus\n",
    "        except Exception as e:\n",
    "            err += 1\n",
    "    \n",
    "    print(\"{}/ {} did not have BLEUS\".format(err, len(pths)))\n",
    "    return ret\n",
    "            \n",
    "\n",
    "\n",
    "pths = getExperiments(outdir)\n",
    "bleus = getBLEUS(pths)\n",
    "\n",
    "results_name = outdir.split('/')[-2]\n",
    "print(results_name)\n",
    "with open(results_name + '.json', 'w') as f:\n",
    "    json.dump(bleus, f)\n",
    "    \n",
    "bleus.keys()"
   ]
  },
  {
   "cell_type": "code",
   "execution_count": null,
   "metadata": {},
   "outputs": [],
   "source": []
  }
 ],
 "metadata": {
  "kernelspec": {
   "display_name": "Python 3",
   "language": "python",
   "name": "python3"
  },
  "language_info": {
   "codemirror_mode": {
    "name": "ipython",
    "version": 3
   },
   "file_extension": ".py",
   "mimetype": "text/x-python",
   "name": "python",
   "nbconvert_exporter": "python",
   "pygments_lexer": "ipython3",
   "version": "3.6.9"
  }
 },
 "nbformat": 4,
 "nbformat_minor": 2
}
