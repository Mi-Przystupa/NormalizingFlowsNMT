{
 "cells": [
  {
   "cell_type": "code",
   "execution_count": 1,
   "metadata": {},
   "outputs": [],
   "source": [
    "import pandas as pd\n",
    "import numpy as np\n",
    "import os\n",
    "import glob\n",
    "import json"
   ]
  },
  {
   "cell_type": "code",
   "execution_count": 2,
   "metadata": {},
   "outputs": [],
   "source": [
    "pth='/home/przystupa/ComputerScience/standford_bitext/wmt14.en-de/'\n",
    "save_pth ='../.data/'\n",
    "\n",
    "train = {'de': pth + 'train.de', 'en': pth + 'train.en'}\n",
    "dev = {'de': pth + 'newstest2013.de', 'en': pth + 'newstest2013.en'}\n",
    "test = {'de': pth + 'newstest2014.de', 'en': pth + 'newstest2014.en'}\n",
    "\n"
   ]
  },
  {
   "cell_type": "code",
   "execution_count": 3,
   "metadata": {},
   "outputs": [],
   "source": [
    "def Tabularize(pth1, pth2, save_name):\n",
    "    #pth1: lang1\n",
    "    #pth2: lang2\n",
    "    #savename: name to file to write to \n",
    "    with open(pth1, mode='r') as f1:\n",
    "        with open(pth2, mode='r') as f2:\n",
    "            f1 = [e.strip() for e in f1]\n",
    "            f2 = [e.strip() for e in f2]\n",
    "            pairs = zip(f1, f2)\n",
    "            pairs = pd.DataFrame(pairs)\n",
    "            pairs.to_csv(save_name ,sep='\\t', index=False, header=False)\n",
    "            \n",
    "def fileToDict(file):\n",
    "    ret = {}\n",
    "    with open(file, mode='r') as file:\n",
    "        i = 0 \n",
    "        for l in file:\n",
    "            ret[l.strip()] = i\n",
    "            i += 1\n",
    "    return ret\n",
    "\n",
    "def writeDictToJson(pth, d):\n",
    "    with open(pth, 'w') as f:\n",
    "        json.dump(d, f, indent=4)"
   ]
  },
  {
   "cell_type": "code",
   "execution_count": 4,
   "metadata": {},
   "outputs": [],
   "source": [
    "#Create de -> en datasets\n",
    "src = 'de'\n",
    "trg = 'en'\n",
    "Tabularize(train[src], train[trg], save_pth + 'train-{}-{}.tsv'.format(src, trg))\n",
    "Tabularize(dev[src], dev[trg], save_pth + 'dev-{}-{}.tsv'.format(src, trg))\n",
    "Tabularize(test[src], test[trg], save_pth + 'test-{}-{}.tsv'.format(src, trg))"
   ]
  },
  {
   "cell_type": "code",
   "execution_count": 5,
   "metadata": {},
   "outputs": [],
   "source": [
    "#Create en -> de datasets\n",
    "src = 'en'\n",
    "trg = 'de'\n",
    "Tabularize(train[src], train[trg], save_pth + 'train-{}-{}.tsv'.format(src, trg))\n",
    "Tabularize(dev[src], dev[trg], save_pth + 'dev-{}-{}.tsv'.format(src, trg))\n",
    "Tabularize(test[src], test[trg], save_pth + 'test-{}-{}.tsv'.format(src, trg))"
   ]
  },
  {
   "cell_type": "code",
   "execution_count": 6,
   "metadata": {},
   "outputs": [],
   "source": [
    "#create English and German Dictionary\n",
    "de_vocab = fileToDict(pth + 'vocab.50K.de')\n",
    "en_vocab = fileToDict(pth + 'vocab.50K.en')\n",
    "\n",
    "writeDictToJson(save_pth + 'en.json', en_vocab)\n",
    "writeDictToJson(save_pth + 'de.json', de_vocab)\n",
    "        "
   ]
  },
  {
   "cell_type": "code",
   "execution_count": 55,
   "metadata": {},
   "outputs": [],
   "source": [
    "import spacy\n",
    "\n",
    "de = spacy.load('de')\n",
    "en = spacy.load('en')\n",
    "\n"
   ]
  },
  {
   "cell_type": "code",
   "execution_count": 61,
   "metadata": {},
   "outputs": [
    {
     "name": "stdout",
     "output_type": "stream",
     "text": [
      "['iron', 'cement', 'ist', 'eine', 'gebrauchs', '#', '#', 'AT##-##AT', '#', '#', 'fertige', 'Paste', ',', 'die', 'mit', 'einem', 'Spachtel', 'oder', 'den', 'Fingern', 'als', 'Hohlkehle', 'in', 'die', 'Formecken', '(', 'Winkel', ')', 'der', 'Stahlguss', '-']\n",
      "['iron', 'cement', 'ist', 'eine', 'gebrauchs', '##AT##-##AT##', 'fertige', 'Paste', ',', 'die', 'mit', 'einem', 'Spachtel', 'oder', 'den', 'Fingern', 'als', 'Hohlkehle', 'in', 'die', 'Formecken', '(', 'Winkel', ')', 'der', 'Stahlguss', '-']\n"
     ]
    }
   ],
   "source": [
    "s ='iron cement ist eine gebrauchs ##AT##-##AT## fertige Paste , die mit einem Spachtel oder den Fingern als Hohlkehle in die Formecken ( Winkel ) der Stahlguss -'\n",
    "print([tok.text for tok in de.tokenizer(s)])\n",
    "print(s.split())"
   ]
  },
  {
   "cell_type": "code",
   "execution_count": 63,
   "metadata": {},
   "outputs": [
    {
     "name": "stdout",
     "output_type": "stream",
     "text": [
      "['The', 'MSDict', 'English', '#', '#', 'AT##-##AT', '#', '#', 'Spanish', 'Pro', 'Dictionary', 'contains', 'over', '38,000', 'entries', 'in', '19,800', 'word', 'articles', ',', 'presented', 'in', 'rich', '#', '#', 'AT##-##AT', '#', '#', 'text', 'format', '.']\n",
      "['The', 'MSDict', 'English', '##AT##-##AT##', 'Spanish', 'Pro', 'Dictionary', 'contains', 'over', '38,000', 'entries', 'in', '19,800', 'word', 'articles', ',', 'presented', 'in', 'rich', '##AT##-##AT##', 'text', 'format', '.']\n"
     ]
    }
   ],
   "source": [
    "s = 'The MSDict English ##AT##-##AT## Spanish Pro Dictionary contains over 38,000 entries in 19,800 word articles , presented in rich ##AT##-##AT## text format .'\n",
    "print([tok.text for tok in de.tokenizer(s)])\n",
    "print(s.split())"
   ]
  },
  {
   "cell_type": "code",
   "execution_count": 67,
   "metadata": {},
   "outputs": [
    {
     "data": {
      "text/plain": [
       "True"
      ]
     },
     "execution_count": 67,
     "metadata": {},
     "output_type": "execute_result"
    }
   ],
   "source": [
    "lang = 'de'\n",
    "on_whitespace = False\n",
    "\n",
    "(lang =='en' or lang== 'de') and not on_whitespace\n"
   ]
  },
  {
   "cell_type": "code",
   "execution_count": 72,
   "metadata": {},
   "outputs": [
    {
     "data": {
      "text/plain": [
       "{'a': 10, 'b': 11}"
      ]
     },
     "execution_count": 72,
     "metadata": {},
     "output_type": "execute_result"
    }
   ],
   "source": [
    "a = [('a', 10), ('b', 11)]\n"
   ]
  },
  {
   "cell_type": "code",
   "execution_count": null,
   "metadata": {},
   "outputs": [],
   "source": []
  }
 ],
 "metadata": {
  "kernelspec": {
   "display_name": "Python 3",
   "language": "python",
   "name": "python3"
  },
  "language_info": {
   "codemirror_mode": {
    "name": "ipython",
    "version": 3
   },
   "file_extension": ".py",
   "mimetype": "text/x-python",
   "name": "python",
   "nbconvert_exporter": "python",
   "pygments_lexer": "ipython3",
   "version": "3.6.9"
  }
 },
 "nbformat": 4,
 "nbformat_minor": 2
}
